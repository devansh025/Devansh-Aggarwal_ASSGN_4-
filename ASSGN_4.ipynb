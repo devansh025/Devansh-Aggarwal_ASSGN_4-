{
 "cells": [
  {
   "cell_type": "code",
   "execution_count": 1,
   "id": "aef21ef4",
   "metadata": {},
   "outputs": [
    {
     "name": "stdout",
     "output_type": "stream",
     "text": [
      "enter yours marks:97\n",
      "GRADE:A\n"
     ]
    }
   ],
   "source": [
    "#1\n",
    "a=int(input(\"enter yours marks:\"))\n",
    "if 25>=a>=0:\n",
    "    print(\"GRADE:F\")\n",
    "elif 25<=a<45:\n",
    "    print(\"GRADE:E\")\n",
    "elif 45<=a<50:\n",
    "    print(\"GRADE:D\")\n",
    "elif 50<=a<60:\n",
    "    print(\"GRADE:C\")\n",
    "elif 60<=a<80:\n",
    "    print(\"GRADE:B\")\n",
    "else :\n",
    "    print(\"GRADE:A\")"
   ]
  },
  {
   "cell_type": "code",
   "execution_count": 2,
   "id": "e67c7062",
   "metadata": {},
   "outputs": [
    {
     "name": "stdout",
     "output_type": "stream",
     "text": [
      "Year=2016\n",
      "It's a leap year\n"
     ]
    }
   ],
   "source": [
    "#2\n",
    "x=int(input(\"Year=\"))\n",
    "if x%4==0:\n",
    "    print(\"It's a leap year\")\n",
    "elif x%100==0 and x%400==0:\n",
    "    print(\"It's a leap year\")\n",
    "else:\n",
    "    print(\"It's not a leap year\")\n"
   ]
  },
  {
   "cell_type": "code",
   "execution_count": null,
   "id": "475c2421",
   "metadata": {},
   "outputs": [
    {
     "name": "stdout",
     "output_type": "stream",
     "text": [
      "question 1 = 4 * 8\n",
      "enter your answer32\n",
      "correct answer\n",
      "question 2 = 9 * 10\n",
      "enter your answer90\n",
      "correct answer\n",
      "question 3 = 7 * 10\n",
      "enter your answer22\n",
      "incorrect answer. The correct answer is 70\n",
      "question 4 = 10 * 10\n"
     ]
    }
   ],
   "source": [
    "#3 multiplication game for kids\n",
    "import random\n",
    "i=0\n",
    "while i<10:\n",
    "    i+=1\n",
    "    a=random.randint(0,10)\n",
    "    b=random.randint (0, 10)\n",
    "    print(\"question\", i,\"=\",a,\"*\",b)\n",
    "    ans=int (input (\"enter your answer\"))\n",
    "\n",
    "    if ans==a*b:\n",
    "     print(\"correct answer\")\n",
    "    else:\n",
    "     print(\"incorrect answer. The correct answer is\",a* b)"
   ]
  },
  {
   "cell_type": "code",
   "execution_count": null,
   "id": "f73a37c4",
   "metadata": {},
   "outputs": [],
   "source": []
  },
  {
   "cell_type": "code",
   "execution_count": 4,
   "id": "fb6684d9",
   "metadata": {},
   "outputs": [
    {
     "name": "stdout",
     "output_type": "stream",
     "text": [
      "177 is the answer\n"
     ]
    }
   ],
   "source": [
    "#4\n",
    "for candies in range (200):\n",
    "    if (candies%5!=2):\n",
    "        continue\n",
    "    if (candies%6!=3):\n",
    "        continue\n",
    "    if (candies%7!=2):\n",
    "        continue\n",
    "    print(str(candies),\"is the answer\")"
   ]
  },
  {
   "cell_type": "code",
   "execution_count": null,
   "id": "33845278",
   "metadata": {},
   "outputs": [],
   "source": []
  }
 ],
 "metadata": {
  "kernelspec": {
   "display_name": "Python 3 (ipykernel)",
   "language": "python",
   "name": "python3"
  },
  "language_info": {
   "codemirror_mode": {
    "name": "ipython",
    "version": 3
   },
   "file_extension": ".py",
   "mimetype": "text/x-python",
   "name": "python",
   "nbconvert_exporter": "python",
   "pygments_lexer": "ipython3",
   "version": "3.9.13"
  }
 },
 "nbformat": 4,
 "nbformat_minor": 5
}
